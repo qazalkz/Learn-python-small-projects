{
  "nbformat": 4,
  "nbformat_minor": 0,
  "metadata": {
    "colab": {
      "name": "Matrix Transpose by zip.ipynb",
      "provenance": [],
      "authorship_tag": "ABX9TyN+1z7dDm6wTGrozHypewkW",
      "include_colab_link": true
    },
    "kernelspec": {
      "name": "python3",
      "display_name": "Python 3"
    }
  },
  "cells": [
    {
      "cell_type": "markdown",
      "metadata": {
        "id": "view-in-github",
        "colab_type": "text"
      },
      "source": [
        "<a href=\"https://colab.research.google.com/github/qazalkz/Learn-python-small-projects/blob/main/Matrix_Transpose_by_zip.ipynb\" target=\"_parent\"><img src=\"https://colab.research.google.com/assets/colab-badge.svg\" alt=\"Open In Colab\"/></a>"
      ]
    },
    {
      "cell_type": "code",
      "metadata": {
        "colab": {
          "base_uri": "https://localhost:8080/"
        },
        "id": "n2PWg24XsaHQ",
        "outputId": "3a410e17-49c5-47de-eec1-456c3ce4c574"
      },
      "source": [
        "ma=[[1,2,3],\r\n",
        "      [4,5,6]]\r\n",
        "\r\n",
        "for i in range(len(ma)):\r\n",
        "   az=(zip(ma[0],ma[i]))\r\n",
        "\r\n",
        "emp=[]  \r\n",
        "for j in (az):  \r\n",
        "  v=list(j)\r\n",
        "  emp.append(v) \r\n",
        "   \r\n",
        "print(emp)  "
      ],
      "execution_count": 12,
      "outputs": [
        {
          "output_type": "stream",
          "text": [
            "[[1, 4], [2, 5], [3, 6]]\n"
          ],
          "name": "stdout"
        }
      ]
    },
    {
      "cell_type": "code",
      "metadata": {
        "colab": {
          "base_uri": "https://localhost:8080/"
        },
        "id": "D8-RHw3xCf_p",
        "outputId": "50de9c63-326c-4400-9301-e6ecaa38a362"
      },
      "source": [
        "p=[(1,2)]\r\n",
        "print(list(p[0]))\r\n"
      ],
      "execution_count": 11,
      "outputs": [
        {
          "output_type": "stream",
          "text": [
            "[1, 2]\n"
          ],
          "name": "stdout"
        }
      ]
    }
  ]
}