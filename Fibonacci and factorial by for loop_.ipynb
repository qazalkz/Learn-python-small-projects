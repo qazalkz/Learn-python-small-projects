{
  "nbformat": 4,
  "nbformat_minor": 0,
  "metadata": {
    "colab": {
      "name": "تمرین .ipynb",
      "provenance": [],
      "authorship_tag": "ABX9TyM74Qecap5dvRo3B+ICYIa4",
      "include_colab_link": true
    },
    "kernelspec": {
      "name": "python3",
      "display_name": "Python 3"
    },
    "language_info": {
      "name": "python"
    }
  },
  "cells": [
    {
      "cell_type": "markdown",
      "metadata": {
        "id": "view-in-github",
        "colab_type": "text"
      },
      "source": [
        "<a href=\"https://colab.research.google.com/github/qazalkz/Learn-python-small-projects/blob/main/Fibonacci%20and%20factorial%20by%20for%20loop_.ipynb\" target=\"_parent\"><img src=\"https://colab.research.google.com/assets/colab-badge.svg\" alt=\"Open In Colab\"/></a>"
      ]
    },
    {
      "cell_type": "code",
      "metadata": {
        "colab": {
          "base_uri": "https://localhost:8080/"
        },
        "id": "-S5JehCLlcEk",
        "outputId": "14e0aa5e-2601-4c56-de84-c18ed01d4cc4"
      },
      "source": [
        "def factorial(num):\n",
        "\n",
        "  b=1\n",
        "  for i in range(1,num+1):\n",
        "    b=b*i\n",
        "  return b\n",
        "  \n",
        "num=int(input(' give me a number :'))\n",
        "factorial(num)"
      ],
      "execution_count": 20,
      "outputs": [
        {
          "output_type": "stream",
          "text": [
            " give me a number :3\n"
          ],
          "name": "stdout"
        },
        {
          "output_type": "execute_result",
          "data": {
            "text/plain": [
              "6"
            ]
          },
          "metadata": {
            "tags": []
          },
          "execution_count": 20
        }
      ]
    },
    {
      "cell_type": "code",
      "metadata": {
        "colab": {
          "base_uri": "https://localhost:8080/"
        },
        "id": "_RnC9sz5ozuw",
        "outputId": "9183c755-6360-4a98-e977-267c3d864ab8"
      },
      "source": [
        "def fibonachi(num):\n",
        "  emp=[0,1]\n",
        "  for i in range(2,num+1):\n",
        "    b= emp[i-1]+emp[i-2]\n",
        "    emp.append(b)\n",
        "  print(emp)  \n",
        "x=int(input('enter a number > 1: \\n'))\n",
        "fibonachi(x)\n",
        "\n"
      ],
      "execution_count": 3,
      "outputs": [
        {
          "output_type": "stream",
          "text": [
            "enter a number > 1: \n",
            "12\n",
            "[0, 1, 1, 2, 3, 5, 8, 13, 21, 34, 55, 89, 144]\n"
          ],
          "name": "stdout"
        }
      ]
    }
  ]
}